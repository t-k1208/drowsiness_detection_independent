{
 "cells": [
  {
   "cell_type": "markdown",
   "metadata": {},
   "source": [
    "被験者ごとに特徴量を標準化して、特徴量間のスケールを合わせてLDAを学習する。"
   ]
  },
  {
   "cell_type": "markdown",
   "metadata": {},
   "source": []
  }
 ],
 "metadata": {
  "language_info": {
   "name": "python"
  }
 },
 "nbformat": 4,
 "nbformat_minor": 2
}
